{
 "cells": [
  {
   "cell_type": "code",
   "execution_count": 1,
   "metadata": {},
   "outputs": [
    {
     "name": "stderr",
     "output_type": "stream",
     "text": [
      "/home/chengxin/chengxin/anaconda3/envs/stableaudio/lib/python3.8/site-packages/tqdm/auto.py:21: TqdmWarning: IProgress not found. Please update jupyter and ipywidgets. See https://ipywidgets.readthedocs.io/en/stable/user_install.html\n",
      "  from .autonotebook import tqdm as notebook_tqdm\n"
     ]
    },
    {
     "data": {
      "text/plain": [
       "(1323000, 44100, 30.0, 30, 8, 'stereo')"
      ]
     },
     "execution_count": 1,
     "metadata": {},
     "output_type": "execute_result"
    }
   ],
   "source": [
    "import json\n",
    "import pytorch_lightning as pl\n",
    "from einops import rearrange\n",
    "import torch\n",
    "import torchaudio\n",
    "from torch.utils.data import DataLoader\n",
    "import safetensors\n",
    "from safetensors.torch import load_file\n",
    "import random\n",
    "\n",
    "import shutil\n",
    "from collections import OrderedDict\n",
    "from datetime import datetime\n",
    "import os\n",
    "import torch.nn.functional as F\n",
    "\n",
    "from stable_audio_tools import create_model_from_config, replace_audio, save_audio\n",
    "from stable_audio_tools.data.dataset import VideoFeatDataset, VideoFeatDataset_VL, collation_fn\n",
    "from stable_audio_tools.training.training_wrapper import DiffusionCondTrainingWrapper\n",
    "from stable_audio_tools.inference.generation import generate_diffusion_cond, generate_diffusion_cond_from_path\n",
    "\n",
    "\n",
    "model_config_file = './stable_audio_tools/configs/model_config_gc16000.json'\n",
    "model_config_file = './stable_audio_tools/configs/model_config_vl30.json'\n",
    "# model_config_file = './stable_audio_tools/configs/model_config_ss30.json'\n",
    "\n",
    "\n",
    "with open(model_config_file) as f:\n",
    "    model_config = json.load(f)\n",
    "    sample_rate = model_config[\"sample_rate\"]\n",
    "    sample_size = model_config[\"sample_size\"]\n",
    "    fps = model_config[\"fps\"]\n",
    "    variable_length = model_config[\"variable_length\"]\n",
    "    force_channels = \"stereo\" if model_config[\"audio_channels\"] == 2 else \"mono\"\n",
    "\n",
    "\n",
    "model = create_model_from_config(model_config)\n",
    "sample_size, sample_rate, sample_size/sample_rate, variable_length, fps, force_channels"
   ]
  },
  {
   "cell_type": "code",
   "execution_count": 2,
   "metadata": {},
   "outputs": [
    {
     "name": "stdout",
     "output_type": "stream",
     "text": [
      "./weight/StableAudio/2024-08-04 02:52:24/epoch=60-step=2818.safetensors\n"
     ]
    },
    {
     "data": {
      "text/plain": [
       "<All keys matched successfully>"
      ]
     },
     "execution_count": 2,
     "metadata": {},
     "output_type": "execute_result"
    }
   ],
   "source": [
    "import safetensors.torch\n",
    "\n",
    "\n",
    "model_dir = './weight/StableAudio/2024-08-04 02:52:24'\n",
    "model_name = 'epoch=60-step=2818'  \n",
    "# ./weight/StableAudio/lightning_logs/version_3/checkpoints  epoch=9-step=14620                                     FPS=22  config\n",
    "# ./weight/StableAudio/2024-07-06 10:28:13               在basemodel的基础上 加入pos_emb,利用AS进行训练<epoch=30-step=58>   time_align和生成效果表现较好(best)   FPS=22 config\n",
    "# ./weight/StableAudio/2024-07-20 13:34:51               在basemodel的基础上 加入pos_emb 利用VGG重新训练 epoch=3-step=1817                          FPS=22  config\n",
    "# ./weight/StableAudio/2024-07-22 19:08:45               在不load t2a-crosscond&conditioner的基础上 加入rotary_cond_emb 利用AS重新训练              FPS=8 sr=16000  config_rotebd\n",
    "# ./weight/StableAudio/2024-07-24 23:06:33               在bestmodel的基础上    利用AS继续进行训练     <epoch=70-step=304> <epoch=150-step=304>     FPS=22  config\n",
    "# ./weight/StableAudio/2024-08-01 09:36:20               在lastmodel<epoch=70-step=304>的基础上    利用ASVGG继续进行训练   <epoch=45-step=2818>  <epoch=29-step=2818>    FPS=22  config\n",
    "# ./weight/StableAudio/2024-08-04 02:52:24               在lastmodel<epoch=29-step=2818>的基础上    利用ASVGG继续进行训练  <epoch=27-step=2818> <epoch=36-step=2818> <epoch=60-step=2818>\n",
    "# ./weight/StableAudio/2024-08-15 11:31:46               在lastmodel<epoch=36-step=2818>的基础上 加入global_cond_ids [\"seconds_start\", \"seconds_total\"] samplesize44100*30 variablelength30\n",
    "# ./weight/StableAudio/2024-08-19 11:11:56               在lastmodel<epoch=36-step=2818>, sr16000 ss160000 fps8 noclamp  加入global_cond_ids 利用VGG继续进行训练   <epoch=60-step=2818> <epoch=30-step=2818> <epoch=35-step=2818> \n",
    "\n",
    "try:\n",
    "    state_dict = load_file(f'{model_dir}/{model_name}.safetensors')\n",
    "except:\n",
    "    state_dict = torch.load(f'{model_dir}/{model_name}.ckpt')['state_dict']\n",
    "    state_dict = OrderedDict([(\".\".join(key.split('.')[1:]), value)  for key, value in state_dict.items()])\n",
    "    safetensors.torch.save_file(state_dict, f'{model_dir}/{model_name}.safetensors')\n",
    "\n",
    "print(f'{model_dir}/{model_name}.safetensors')\n",
    "\n",
    "# cond_state_dict = load_file(f'./weight/StableAudio/model.safetensors')\n",
    "# cond_state_dict = {k: v for k, v in cond_state_dict.items() if ('seconds' in k)}\n",
    "# state_dict.update(cond_state_dict)\n",
    "model.load_state_dict(state_dict, strict=True)"
   ]
  },
  {
   "cell_type": "code",
   "execution_count": 3,
   "metadata": {},
   "outputs": [
    {
     "name": "stdout",
     "output_type": "stream",
     "text": [
      "2699835069\n",
      "Extracting features from video:/home/chengxin/chengxin/VGGSound/dataset/test/10/__2MwJ2uHu0_000004.mp4\n"
     ]
    },
    {
     "name": "stderr",
     "output_type": "stream",
     "text": [
      "  4%|▍         | 6/150 [00:00<00:07, 19.73it/s]"
     ]
    },
    {
     "name": "stdout",
     "output_type": "stream",
     "text": [
      "torch.Size([2, 220, 768])\n",
      "torch.Size([2, 220, 768])\n",
      "torch.Size([2, 220, 768])\n",
      "torch.Size([2, 220, 768])\n",
      "torch.Size([2, 220, 768])\n",
      "torch.Size([2, 220, 768])\n",
      "torch.Size([2, 220, 768])\n",
      "torch.Size([2, 220, 768])\n"
     ]
    },
    {
     "name": "stderr",
     "output_type": "stream",
     "text": [
      " 11%|█▏        | 17/150 [00:00<00:03, 37.13it/s]"
     ]
    },
    {
     "name": "stdout",
     "output_type": "stream",
     "text": [
      "torch.Size([2, 220, 768])\n",
      "torch.Size([2, 220, 768])\n",
      "torch.Size([2, 220, 768])\n",
      "torch.Size([2, 220, 768])\n",
      "torch.Size([2, 220, 768])\n",
      "torch.Size([2, 220, 768])\n",
      "torch.Size([2, 220, 768])\n",
      "torch.Size([2, 220, 768])\n",
      "torch.Size([2, 220, 768])\n",
      "torch.Size([2, 220, 768])\n",
      "torch.Size([2, 220, 768])\n"
     ]
    },
    {
     "name": "stderr",
     "output_type": "stream",
     "text": [
      " 19%|█▉        | 29/150 [00:00<00:02, 45.64it/s]"
     ]
    },
    {
     "name": "stdout",
     "output_type": "stream",
     "text": [
      "torch.Size([2, 220, 768])\n",
      "torch.Size([2, 220, 768])\n",
      "torch.Size([2, 220, 768])\n",
      "torch.Size([2, 220, 768])\n",
      "torch.Size([2, 220, 768])\n",
      "torch.Size([2, 220, 768])\n",
      "torch.Size([2, 220, 768])\n",
      "torch.Size([2, 220, 768])\n",
      "torch.Size([2, 220, 768])\n",
      "torch.Size([2, 220, 768])\n",
      "torch.Size([2, 220, 768])\n"
     ]
    },
    {
     "name": "stderr",
     "output_type": "stream",
     "text": [
      " 27%|██▋       | 40/150 [00:01<00:02, 47.56it/s]"
     ]
    },
    {
     "name": "stdout",
     "output_type": "stream",
     "text": [
      "torch.Size([2, 220, 768])\n",
      "torch.Size([2, 220, 768])\n",
      "torch.Size([2, 220, 768])\n",
      "torch.Size([2, 220, 768])\n",
      "torch.Size([2, 220, 768])\n",
      "torch.Size([2, 220, 768])\n",
      "torch.Size([2, 220, 768])\n",
      "torch.Size([2, 220, 768])\n",
      "torch.Size([2, 220, 768])\n",
      "torch.Size([2, 220, 768])\n"
     ]
    },
    {
     "name": "stderr",
     "output_type": "stream",
     "text": [
      " 31%|███       | 46/150 [00:01<00:02, 48.64it/s]"
     ]
    },
    {
     "name": "stdout",
     "output_type": "stream",
     "text": [
      "torch.Size([2, 220, 768])\n",
      "torch.Size([2, 220, 768])\n",
      "torch.Size([2, 220, 768])\n",
      "torch.Size([2, 220, 768])\n",
      "torch.Size([2, 220, 768])\n",
      "torch.Size([2, 220, 768])\n",
      "torch.Size([2, 220, 768])\n",
      "torch.Size([2, 220, 768])\n",
      "torch.Size([2, 220, 768])\n",
      "torch.Size([2, 220, 768])\n",
      "torch.Size([2, 220, 768])\n"
     ]
    },
    {
     "name": "stderr",
     "output_type": "stream",
     "text": [
      " 38%|███▊      | 57/150 [00:01<00:01, 47.95it/s]"
     ]
    },
    {
     "name": "stdout",
     "output_type": "stream",
     "text": [
      "torch.Size([2, 220, 768])\n",
      "torch.Size([2, 220, 768])\n",
      "torch.Size([2, 220, 768])\n",
      "torch.Size([2, 220, 768])\n",
      "torch.Size([2, 220, 768])\n",
      "torch.Size([2, 220, 768])\n",
      "torch.Size([2, 220, 768])\n",
      "torch.Size([2, 220, 768])\n",
      "torch.Size([2, 220, 768])\n",
      "torch.Size([2, 220, 768])\n"
     ]
    },
    {
     "name": "stderr",
     "output_type": "stream",
     "text": [
      " 45%|████▌     | 68/150 [00:01<00:01, 48.90it/s]"
     ]
    },
    {
     "name": "stdout",
     "output_type": "stream",
     "text": [
      "torch.Size([2, 220, 768])\n",
      "torch.Size([2, 220, 768])\n",
      "torch.Size([2, 220, 768])\n",
      "torch.Size([2, 220, 768])\n",
      "torch.Size([2, 220, 768])\n",
      "torch.Size([2, 220, 768])\n",
      "torch.Size([2, 220, 768])\n",
      "torch.Size([2, 220, 768])\n",
      "torch.Size([2, 220, 768])\n",
      "torch.Size([2, 220, 768])\n",
      "torch.Size([2, 220, 768])\n"
     ]
    },
    {
     "name": "stderr",
     "output_type": "stream",
     "text": [
      " 53%|█████▎    | 79/150 [00:01<00:01, 45.03it/s]"
     ]
    },
    {
     "name": "stdout",
     "output_type": "stream",
     "text": [
      "torch.Size([2, 220, 768])\n",
      "torch.Size([2, 220, 768])\n",
      "torch.Size([2, 220, 768])\n",
      "torch.Size([2, 220, 768])\n",
      "torch.Size([2, 220, 768])\n",
      "torch.Size([2, 220, 768])\n",
      "torch.Size([2, 220, 768])\n",
      "torch.Size([2, 220, 768])\n"
     ]
    },
    {
     "name": "stderr",
     "output_type": "stream",
     "text": [
      " 56%|█████▌    | 84/150 [00:02<00:01, 39.14it/s]"
     ]
    },
    {
     "name": "stdout",
     "output_type": "stream",
     "text": [
      "torch.Size([2, 220, 768])\n",
      "torch.Size([2, 220, 768])\n",
      "torch.Size([2, 220, 768])\n",
      "torch.Size([2, 220, 768])\n",
      "torch.Size([2, 220, 768])\n",
      "torch.Size([2, 220, 768])\n"
     ]
    },
    {
     "name": "stderr",
     "output_type": "stream",
     "text": [
      " 63%|██████▎   | 94/150 [00:02<00:01, 38.49it/s]"
     ]
    },
    {
     "name": "stdout",
     "output_type": "stream",
     "text": [
      "torch.Size([2, 220, 768])\n",
      "torch.Size([2, 220, 768])\n",
      "torch.Size([2, 220, 768])\n",
      "torch.Size([2, 220, 768])\n",
      "torch.Size([2, 220, 768])\n",
      "torch.Size([2, 220, 768])\n",
      "torch.Size([2, 220, 768])\n",
      "torch.Size([2, 220, 768])\n"
     ]
    },
    {
     "name": "stderr",
     "output_type": "stream",
     "text": [
      " 67%|██████▋   | 100/150 [00:02<00:01, 42.16it/s]"
     ]
    },
    {
     "name": "stdout",
     "output_type": "stream",
     "text": [
      "torch.Size([2, 220, 768])\n",
      "torch.Size([2, 220, 768])\n",
      "torch.Size([2, 220, 768])\n",
      "torch.Size([2, 220, 768])\n",
      "torch.Size([2, 220, 768])\n",
      "torch.Size([2, 220, 768])\n",
      "torch.Size([2, 220, 768])\n",
      "torch.Size([2, 220, 768])\n",
      "torch.Size([2, 220, 768])\n",
      "torch.Size([2, 220, 768])\n",
      "torch.Size([2, 220, 768])\n"
     ]
    },
    {
     "name": "stderr",
     "output_type": "stream",
     "text": [
      " 75%|███████▍  | 112/150 [00:02<00:00, 47.52it/s]"
     ]
    },
    {
     "name": "stdout",
     "output_type": "stream",
     "text": [
      "torch.Size([2, 220, 768])\n",
      "torch.Size([2, 220, 768])\n",
      "torch.Size([2, 220, 768])\n",
      "torch.Size([2, 220, 768])\n",
      "torch.Size([2, 220, 768])\n",
      "torch.Size([2, 220, 768])\n",
      "torch.Size([2, 220, 768])\n",
      "torch.Size([2, 220, 768])\n",
      "torch.Size([2, 220, 768])\n",
      "torch.Size([2, 220, 768])\n",
      "torch.Size([2, 220, 768])\n"
     ]
    },
    {
     "name": "stderr",
     "output_type": "stream",
     "text": [
      " 82%|████████▏ | 123/150 [00:02<00:00, 48.82it/s]"
     ]
    },
    {
     "name": "stdout",
     "output_type": "stream",
     "text": [
      "torch.Size([2, 220, 768])\n",
      "torch.Size([2, 220, 768])\n",
      "torch.Size([2, 220, 768])\n",
      "torch.Size([2, 220, 768])\n",
      "torch.Size([2, 220, 768])\n",
      "torch.Size([2, 220, 768])\n",
      "torch.Size([2, 220, 768])\n",
      "torch.Size([2, 220, 768])\n",
      "torch.Size([2, 220, 768])\n",
      "torch.Size([2, 220, 768])\n"
     ]
    },
    {
     "name": "stderr",
     "output_type": "stream",
     "text": [
      " 89%|████████▉ | 134/150 [00:03<00:00, 49.89it/s]"
     ]
    },
    {
     "name": "stdout",
     "output_type": "stream",
     "text": [
      "torch.Size([2, 220, 768])\n",
      "torch.Size([2, 220, 768])\n",
      "torch.Size([2, 220, 768])\n",
      "torch.Size([2, 220, 768])\n",
      "torch.Size([2, 220, 768])\n",
      "torch.Size([2, 220, 768])\n",
      "torch.Size([2, 220, 768])\n",
      "torch.Size([2, 220, 768])\n",
      "torch.Size([2, 220, 768])\n",
      "torch.Size([2, 220, 768])\n",
      "torch.Size([2, 220, 768])\n",
      "torch.Size([2, 220, 768])\n"
     ]
    },
    {
     "name": "stderr",
     "output_type": "stream",
     "text": [
      " 97%|█████████▋| 146/150 [00:03<00:00, 50.67it/s]"
     ]
    },
    {
     "name": "stdout",
     "output_type": "stream",
     "text": [
      "torch.Size([2, 220, 768])\n",
      "torch.Size([2, 220, 768])\n",
      "torch.Size([2, 220, 768])\n",
      "torch.Size([2, 220, 768])\n",
      "torch.Size([2, 220, 768])\n",
      "torch.Size([2, 220, 768])\n",
      "torch.Size([2, 220, 768])\n",
      "torch.Size([2, 220, 768])\n",
      "torch.Size([2, 220, 768])\n",
      "torch.Size([2, 220, 768])\n",
      "torch.Size([2, 220, 768])\n"
     ]
    },
    {
     "name": "stderr",
     "output_type": "stream",
     "text": [
      "100%|██████████| 150/150 [00:03<00:00, 44.10it/s]\n"
     ]
    },
    {
     "name": "stdout",
     "output_type": "stream",
     "text": [
      "torch.Size([2, 220, 768])\n"
     ]
    }
   ],
   "source": [
    "from moviepy.editor import VideoFileClip\n",
    "\n",
    "device = 0\n",
    "conditioning = {\n",
    "    # 'seconds_start': [0],\n",
    "    # 'seconds_total': [10],\n",
    "    'feature': ['/home/chengxin/chengxin/VGGSound/dataset/test/10/__2MwJ2uHu0_000004.mp4']\n",
    "}\n",
    "video_clip = VideoFileClip(conditioning['feature'][0])\n",
    "seconds_total = int(video_clip.duration)\n",
    "seconds_total = 10\n",
    "\n",
    "output = generate_diffusion_cond(\n",
    "    model = model.to(device),\n",
    "    steps=150,\n",
    "    cfg_scale=7,\n",
    "    conditioning=conditioning,\n",
    "    sample_size=int(sample_rate*seconds_total),\n",
    "    batch_size=len(conditioning['feature']),\n",
    "    sigma_min=0.3,\n",
    "    sigma_max=500,\n",
    "    sampler_type=\"dpmpp-3m-sde\",\n",
    "    device=device\n",
    ")\n",
    "\n",
    "audio_path = \"./test.wav\"\n",
    "waveform = output[0:1,...,:int(seconds_total*sample_rate)]\n",
    "# print(output.shape, output[idx:idx+1].shape, waveform.shape)\n",
    "save_audio(waveform, audio_path, sample_rate)"
   ]
  },
  {
   "cell_type": "code",
   "execution_count": 3,
   "metadata": {},
   "outputs": [],
   "source": [
    "import torch\n",
    "import torch.nn.functional as F\n",
    "from torch import nn, einsum\n",
    "from torch.cuda.amp import autocast\n",
    "\n",
    "class RotaryEmbedding(nn.Module):\n",
    "    def __init__(\n",
    "        self,\n",
    "        dim,\n",
    "        use_xpos = False,\n",
    "        scale_base = 512,\n",
    "        interpolation_factor = 1.,\n",
    "        base = 10000,\n",
    "        base_rescale_factor = 1.\n",
    "    ):\n",
    "        super().__init__()\n",
    "        # proposed by reddit user bloc97, to rescale rotary embeddings to longer sequence length without fine-tuning\n",
    "        # has some connection to NTK literature\n",
    "        # https://www.reddit.com/r/LocalLLaMA/comments/14lz7j5/ntkaware_scaled_rope_allows_llama_models_to_have/\n",
    "        base *= base_rescale_factor ** (dim / (dim - 2))\n",
    "\n",
    "        inv_freq = 1. / (base ** (torch.arange(0, dim, 2).float() / dim))\n",
    "        self.register_buffer('inv_freq', inv_freq)\n",
    "\n",
    "        assert interpolation_factor >= 1.\n",
    "        self.interpolation_factor = interpolation_factor\n",
    "\n",
    "        if not use_xpos:\n",
    "            self.register_buffer('scale', None)\n",
    "            return\n",
    "\n",
    "        scale = (torch.arange(0, dim, 2) + 0.4 * dim) / (1.4 * dim)\n",
    "\n",
    "        self.scale_base = scale_base\n",
    "        self.register_buffer('scale', scale)\n",
    "\n",
    "    def forward_from_seq_len(self, seq_len):\n",
    "        device = self.inv_freq.device\n",
    "\n",
    "        t = torch.arange(seq_len, device = device)\n",
    "        return self.forward(t)\n",
    "\n",
    "    @autocast(enabled = False)\n",
    "    def forward(self, t):\n",
    "        device = self.inv_freq.device\n",
    "\n",
    "        t = t.to(torch.float32)\n",
    "\n",
    "        t = t / self.interpolation_factor\n",
    "\n",
    "        freqs = torch.einsum('i , j -> i j', t, self.inv_freq)\n",
    "        freqs = torch.cat((freqs, freqs), dim = -1)\n",
    "\n",
    "        if self.scale is None:\n",
    "            return freqs, 1.\n",
    "\n",
    "        power = (torch.arange(seq_len, device = device) - (seq_len // 2)) / self.scale_base\n",
    "        scale = self.scale ** rearrange(power, 'n -> n 1')\n",
    "        scale = torch.cat((scale, scale), dim = -1)\n",
    "\n",
    "        return freqs, scale"
   ]
  },
  {
   "cell_type": "code",
   "execution_count": 4,
   "metadata": {},
   "outputs": [],
   "source": [
    "x = torch.zeros([20, 220, 1536]).to('cuda')\n",
    "context = torch.zeros([20, 220, 768]).to('cuda')\n",
    "rotary_pos_emb_layer = RotaryEmbedding(32)\n",
    "rotary_pos_emb = rotary_pos_emb_layer.forward_from_seq_len(120)  # (Tensor([seq_len, 32], 1)\n",
    "\n",
    "\n",
    "model.to('cuda')\n",
    "x += model.model.model.transformer.pos_emb(x)\n",
    "context += model.model.model.transformer.pos_emb_cond(x)\n"
   ]
  },
  {
   "cell_type": "code",
   "execution_count": 10,
   "metadata": {},
   "outputs": [
    {
     "data": {
      "text/plain": [
       "torch.Size([20, 24, 220])"
      ]
     },
     "execution_count": 10,
     "metadata": {},
     "output_type": "execute_result"
    }
   ],
   "source": [
    "transformer_block = model.model.model.transformer.layers[0]\n",
    "out, softmax_lse, S_dmask = transformer_block.cross_attn(x = transformer_block.cross_attend_norm(x), context=context, rotary_pos_emb=rotary_pos_emb)\n",
    "softmax_lse.shape"
   ]
  },
  {
   "cell_type": "code",
   "execution_count": 62,
   "metadata": {},
   "outputs": [
    {
     "data": {
      "text/plain": [
       "(torch.Size([20, 768, 220]),\n",
       " torch.Size([20, 220, 768]),\n",
       " torch.Size([20, 220, 220]))"
      ]
     },
     "execution_count": 62,
     "metadata": {},
     "output_type": "execute_result"
    }
   ],
   "source": [
    "q1 = q1.reshape([20, 220, 12*64]).permute(0, 2, 1)\n",
    "q2 = q2.reshape([20, 220, 12*64]).permute(0, 2, 1)\n",
    "k = k.reshape([20, 220, 12*64])\n",
    "\n",
    "\n",
    "result = torch.bmm(k, q2)\n",
    "q1.shape, k.shape, result.shape\n"
   ]
  },
  {
   "cell_type": "code",
   "execution_count": 63,
   "metadata": {},
   "outputs": [
    {
     "data": {
      "text/plain": [
       "torch.Size([20, 20])"
      ]
     },
     "execution_count": 63,
     "metadata": {},
     "output_type": "execute_result"
    }
   ],
   "source": [
    "result[1][:20, :20].shape"
   ]
  },
  {
   "cell_type": "code",
   "execution_count": 69,
   "metadata": {},
   "outputs": [
    {
     "data": {
      "image/png": "[encoded data removed]",
      "text/plain": [
       "<Figure size 1000x500 with 2 Axes>"
      ]
     },
     "metadata": {},
     "output_type": "display_data"
    }
   ],
   "source": [
    "\n",
    "import matplotlib.pyplot as plt\n",
    "import numpy as np\n",
    "\n",
    "attention_weights = result[1][90:150, 90:150]\n",
    "attention_weights = attention_weights.softmax(dim = 0).cpu().detach().numpy()\n",
    "\n",
    "# 绘制注意力图\n",
    "plt.figure(figsize=(10, 5))\n",
    "plt.imshow(attention_weights, cmap='viridis')\n",
    "plt.colorbar()\n",
    "plt.xlabel('Key Positions')\n",
    "plt.ylabel('Query Positions')\n",
    "plt.title('Attention Map')\n",
    "plt.show()"
   ]
  },
  {
   "cell_type": "code",
   "execution_count": 2,
   "metadata": {},
   "outputs": [],
   "source": [
    "rotary_pos_emb_layer = RotaryEmbedding(32)\n",
    "rotary_pos_emb = rotary_pos_emb_layer.forward_from_seq_len(120)  # (Tensor([seq_len, 32], 1)\n",
    "\n",
    "freqs, _ = rotary_pos_emb\n",
    "\n",
    "# q_dtype = q.dtype\n",
    "# k_dtype = k.dtype\n",
    "\n",
    "# q = q.to(torch.float32)\n",
    "# k = k.to(torch.float32)\n",
    "# freqs = freqs.to(torch.float32)\n",
    "\n",
    "# q = apply_rotary_pos_emb(q, freqs)\n",
    "# k = apply_rotary_pos_emb(k, freqs)\n",
    "\n",
    "# q = q.to(q_dtype)\n",
    "# k = k.to(k_dtype)"
   ]
  }
 ],
 "metadata": {
  "kernelspec": {
   "display_name": "stableaudio",
   "language": "python",
   "name": "python3"
  },
  "language_info": {
   "codemirror_mode": {
    "name": "ipython",
    "version": 3
   },
   "file_extension": ".py",
   "mimetype": "text/x-python",
   "name": "python",
   "nbconvert_exporter": "python",
   "pygments_lexer": "ipython3",
   "version": "3.8.10"
  }
 },
 "nbformat": 4,
 "nbformat_minor": 2
}
